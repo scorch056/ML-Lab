{
 "cells": [
  {
   "cell_type": "code",
   "execution_count": 182,
   "metadata": {},
   "outputs": [],
   "source": [
    "import pandas as pd\n",
    "import numpy as np\n",
    "import matplotlib.pyplot as plt\n",
    "from sklearn.tree import DecisionTreeClassifier\n",
    "from sklearn.model_selection import train_test_split\n",
    "from sklearn.metrics import accuracy_score, classification_report\n",
    "from sklearn.preprocessing import LabelEncoder, OneHotEncoder"
   ]
  },
  {
   "cell_type": "markdown",
   "metadata": {},
   "source": [
    "## Data Preprocessing"
   ]
  },
  {
   "cell_type": "code",
   "execution_count": 183,
   "metadata": {},
   "outputs": [
    {
     "name": "stderr",
     "output_type": "stream",
     "text": [
      "<>:1: SyntaxWarning: invalid escape sequence '\\S'\n",
      "<>:1: SyntaxWarning: invalid escape sequence '\\S'\n",
      "C:\\Users\\Swastik\\AppData\\Local\\Temp\\ipykernel_4212\\1844795570.py:1: SyntaxWarning: invalid escape sequence '\\S'\n",
      "  df = pd.read_csv(\"G:\\Study\\iit kharagpur\\ML Lab\\Lab 1\\ML_Lab_2\\dataset_traffic_accident_prediction1.csv\")\n"
     ]
    },
    {
     "data": {
      "text/html": [
       "<div>\n",
       "<style scoped>\n",
       "    .dataframe tbody tr th:only-of-type {\n",
       "        vertical-align: middle;\n",
       "    }\n",
       "\n",
       "    .dataframe tbody tr th {\n",
       "        vertical-align: top;\n",
       "    }\n",
       "\n",
       "    .dataframe thead th {\n",
       "        text-align: right;\n",
       "    }\n",
       "</style>\n",
       "<table border=\"1\" class=\"dataframe\">\n",
       "  <thead>\n",
       "    <tr style=\"text-align: right;\">\n",
       "      <th></th>\n",
       "      <th>Weather</th>\n",
       "      <th>Road_Type</th>\n",
       "      <th>Time_of_Day</th>\n",
       "      <th>Traffic_Density</th>\n",
       "      <th>Speed_Limit</th>\n",
       "      <th>Number_of_Vehicles</th>\n",
       "      <th>Driver_Alcohol</th>\n",
       "      <th>Accident_Severity</th>\n",
       "      <th>Road_Condition</th>\n",
       "      <th>Vehicle_Type</th>\n",
       "      <th>Driver_Age</th>\n",
       "      <th>Driver_Experience</th>\n",
       "      <th>Road_Light_Condition</th>\n",
       "      <th>Accident</th>\n",
       "    </tr>\n",
       "  </thead>\n",
       "  <tbody>\n",
       "    <tr>\n",
       "      <th>0</th>\n",
       "      <td>Rainy</td>\n",
       "      <td>City Road</td>\n",
       "      <td>Morning</td>\n",
       "      <td>1.0</td>\n",
       "      <td>100.0</td>\n",
       "      <td>5.0</td>\n",
       "      <td>0.0</td>\n",
       "      <td>NaN</td>\n",
       "      <td>Wet</td>\n",
       "      <td>Car</td>\n",
       "      <td>51.0</td>\n",
       "      <td>48.0</td>\n",
       "      <td>Artificial Light</td>\n",
       "      <td>0.0</td>\n",
       "    </tr>\n",
       "    <tr>\n",
       "      <th>1</th>\n",
       "      <td>Clear</td>\n",
       "      <td>Rural Road</td>\n",
       "      <td>Night</td>\n",
       "      <td>NaN</td>\n",
       "      <td>120.0</td>\n",
       "      <td>3.0</td>\n",
       "      <td>0.0</td>\n",
       "      <td>Moderate</td>\n",
       "      <td>Wet</td>\n",
       "      <td>Truck</td>\n",
       "      <td>49.0</td>\n",
       "      <td>43.0</td>\n",
       "      <td>Artificial Light</td>\n",
       "      <td>0.0</td>\n",
       "    </tr>\n",
       "    <tr>\n",
       "      <th>2</th>\n",
       "      <td>Rainy</td>\n",
       "      <td>Highway</td>\n",
       "      <td>Evening</td>\n",
       "      <td>1.0</td>\n",
       "      <td>60.0</td>\n",
       "      <td>4.0</td>\n",
       "      <td>0.0</td>\n",
       "      <td>Low</td>\n",
       "      <td>Icy</td>\n",
       "      <td>Car</td>\n",
       "      <td>54.0</td>\n",
       "      <td>52.0</td>\n",
       "      <td>Artificial Light</td>\n",
       "      <td>0.0</td>\n",
       "    </tr>\n",
       "    <tr>\n",
       "      <th>3</th>\n",
       "      <td>Clear</td>\n",
       "      <td>City Road</td>\n",
       "      <td>Afternoon</td>\n",
       "      <td>2.0</td>\n",
       "      <td>60.0</td>\n",
       "      <td>3.0</td>\n",
       "      <td>0.0</td>\n",
       "      <td>Low</td>\n",
       "      <td>Under Construction</td>\n",
       "      <td>Bus</td>\n",
       "      <td>34.0</td>\n",
       "      <td>31.0</td>\n",
       "      <td>Daylight</td>\n",
       "      <td>0.0</td>\n",
       "    </tr>\n",
       "    <tr>\n",
       "      <th>4</th>\n",
       "      <td>Rainy</td>\n",
       "      <td>Highway</td>\n",
       "      <td>Morning</td>\n",
       "      <td>1.0</td>\n",
       "      <td>195.0</td>\n",
       "      <td>11.0</td>\n",
       "      <td>0.0</td>\n",
       "      <td>Low</td>\n",
       "      <td>Dry</td>\n",
       "      <td>Car</td>\n",
       "      <td>62.0</td>\n",
       "      <td>55.0</td>\n",
       "      <td>Artificial Light</td>\n",
       "      <td>1.0</td>\n",
       "    </tr>\n",
       "  </tbody>\n",
       "</table>\n",
       "</div>"
      ],
      "text/plain": [
       "  Weather   Road_Type Time_of_Day  Traffic_Density  Speed_Limit  \\\n",
       "0   Rainy   City Road     Morning              1.0        100.0   \n",
       "1   Clear  Rural Road       Night              NaN        120.0   \n",
       "2   Rainy     Highway     Evening              1.0         60.0   \n",
       "3   Clear   City Road   Afternoon              2.0         60.0   \n",
       "4   Rainy     Highway     Morning              1.0        195.0   \n",
       "\n",
       "   Number_of_Vehicles  Driver_Alcohol Accident_Severity      Road_Condition  \\\n",
       "0                 5.0             0.0               NaN                 Wet   \n",
       "1                 3.0             0.0          Moderate                 Wet   \n",
       "2                 4.0             0.0               Low                 Icy   \n",
       "3                 3.0             0.0               Low  Under Construction   \n",
       "4                11.0             0.0               Low                 Dry   \n",
       "\n",
       "  Vehicle_Type  Driver_Age  Driver_Experience Road_Light_Condition  Accident  \n",
       "0          Car        51.0               48.0     Artificial Light       0.0  \n",
       "1        Truck        49.0               43.0     Artificial Light       0.0  \n",
       "2          Car        54.0               52.0     Artificial Light       0.0  \n",
       "3          Bus        34.0               31.0             Daylight       0.0  \n",
       "4          Car        62.0               55.0     Artificial Light       1.0  "
      ]
     },
     "execution_count": 183,
     "metadata": {},
     "output_type": "execute_result"
    }
   ],
   "source": [
    "df = pd.read_csv(\"G:\\Study\\iit kharagpur\\ML Lab\\Lab 1\\ML_Lab_2\\dataset_traffic_accident_prediction1.csv\")\n",
    "df.head()"
   ]
  },
  {
   "cell_type": "code",
   "execution_count": 184,
   "metadata": {},
   "outputs": [
    {
     "name": "stdout",
     "output_type": "stream",
     "text": [
      "{'Weather': array(['Rainy', 'Clear', 'Foggy', 'Stormy', nan, 'Snowy'], dtype=object), 'Road_Type': array(['City Road', 'Rural Road', 'Highway', nan, 'Mountain Road'],\n",
      "      dtype=object), 'Time_of_Day': array(['Morning', 'Night', 'Evening', 'Afternoon', nan], dtype=object), 'Traffic_Density': array([ 1., nan,  2.,  0.]), 'Speed_Limit': array([100., 120.,  60., 195.,  30.,  nan,  50.,  80., 200., 206., 178.,\n",
      "       208., 213., 190., 196., 188., 194., 189., 193., 185., 199., 192.,\n",
      "       198., 212., 181.]), 'Number_of_Vehicles': array([ 5.,  3.,  4., 11.,  2.,  1., nan, 12., 13., 14., 10.]), 'Driver_Alcohol': array([ 0.,  1., nan]), 'Accident_Severity': array([nan, 'Moderate', 'Low', 'High'], dtype=object), 'Road_Condition': array(['Wet', 'Icy', 'Under Construction', 'Dry', nan], dtype=object), 'Vehicle_Type': array(['Car', 'Truck', 'Bus', 'Motorcycle', nan], dtype=object), 'Driver_Age': array([51., 49., 54., 34., 62., 27., 29., 38., 50., 33., 47., 25., 67.,\n",
      "       61., 46., 48., 53., 35., 59., 32., 69., 68., 28., 40., 30., 60.,\n",
      "       66., nan, 63., 65., 18., 55., 45., 22., 26., 58., 23., 57., 43.,\n",
      "       41., 64., 42., 56., 52., 44., 20., 24., 19., 37., 21., 39., 36.,\n",
      "       31.]), 'Driver_Experience': array([48., 43., 52., 31., 55., 26., 22., 29., 28., 38., 16., 63., 57.,\n",
      "       nan, 41., 32., 53., 23., 24., 47., 64., 60., 25., 65., 13., 36.,\n",
      "       37., 21., 54., 14., 19., 49., 39., 58., 66., 17., 59., 42., 46.,\n",
      "       18., 61., 30., 51., 56., 34., 10., 27., 50., 33., 20., 67., 69.,\n",
      "       40., 62., 44., 12., 45., 15., 35., 11.,  9.]), 'Road_Light_Condition': array(['Artificial Light', 'Daylight', 'No Light', nan], dtype=object), 'Accident': array([ 0.,  1., nan])}\n"
     ]
    }
   ],
   "source": [
    "columns = list(df.columns)\n",
    "columns_dict = {}\n",
    "for column in columns:\n",
    "    columns_dict[column] = df[column].unique()\n",
    "\n",
    "print(columns_dict)"
   ]
  },
  {
   "cell_type": "code",
   "execution_count": 185,
   "metadata": {},
   "outputs": [],
   "source": [
    "df.dropna(inplace=True)"
   ]
  },
  {
   "cell_type": "code",
   "execution_count": 186,
   "metadata": {},
   "outputs": [
    {
     "data": {
      "text/html": [
       "<div>\n",
       "<style scoped>\n",
       "    .dataframe tbody tr th:only-of-type {\n",
       "        vertical-align: middle;\n",
       "    }\n",
       "\n",
       "    .dataframe tbody tr th {\n",
       "        vertical-align: top;\n",
       "    }\n",
       "\n",
       "    .dataframe thead th {\n",
       "        text-align: right;\n",
       "    }\n",
       "</style>\n",
       "<table border=\"1\" class=\"dataframe\">\n",
       "  <thead>\n",
       "    <tr style=\"text-align: right;\">\n",
       "      <th></th>\n",
       "      <th>Time_of_Day</th>\n",
       "      <th>Traffic_Density</th>\n",
       "      <th>Speed_Limit</th>\n",
       "      <th>Number_of_Vehicles</th>\n",
       "      <th>Driver_Alcohol</th>\n",
       "      <th>Accident_Severity</th>\n",
       "      <th>Driver_Age</th>\n",
       "      <th>Driver_Experience</th>\n",
       "      <th>Road_Light_Condition</th>\n",
       "      <th>Accident</th>\n",
       "      <th>...</th>\n",
       "      <th>Weather_Snowy</th>\n",
       "      <th>Weather_Stormy</th>\n",
       "      <th>Road_Condition_Dry</th>\n",
       "      <th>Road_Condition_Icy</th>\n",
       "      <th>Road_Condition_Under Construction</th>\n",
       "      <th>Road_Condition_Wet</th>\n",
       "      <th>Vehicle_Type_Bus</th>\n",
       "      <th>Vehicle_Type_Car</th>\n",
       "      <th>Vehicle_Type_Motorcycle</th>\n",
       "      <th>Vehicle_Type_Truck</th>\n",
       "    </tr>\n",
       "  </thead>\n",
       "  <tbody>\n",
       "    <tr>\n",
       "      <th>2</th>\n",
       "      <td>2</td>\n",
       "      <td>1.0</td>\n",
       "      <td>0</td>\n",
       "      <td>1</td>\n",
       "      <td>0.0</td>\n",
       "      <td>0</td>\n",
       "      <td>2</td>\n",
       "      <td>2</td>\n",
       "      <td>1</td>\n",
       "      <td>0.0</td>\n",
       "      <td>...</td>\n",
       "      <td>0.0</td>\n",
       "      <td>0.0</td>\n",
       "      <td>0.0</td>\n",
       "      <td>1.0</td>\n",
       "      <td>0.0</td>\n",
       "      <td>0.0</td>\n",
       "      <td>0.0</td>\n",
       "      <td>1.0</td>\n",
       "      <td>0.0</td>\n",
       "      <td>0.0</td>\n",
       "    </tr>\n",
       "    <tr>\n",
       "      <th>3</th>\n",
       "      <td>1</td>\n",
       "      <td>2.0</td>\n",
       "      <td>0</td>\n",
       "      <td>1</td>\n",
       "      <td>0.0</td>\n",
       "      <td>0</td>\n",
       "      <td>0</td>\n",
       "      <td>1</td>\n",
       "      <td>0</td>\n",
       "      <td>0.0</td>\n",
       "      <td>...</td>\n",
       "      <td>0.0</td>\n",
       "      <td>0.0</td>\n",
       "      <td>0.0</td>\n",
       "      <td>0.0</td>\n",
       "      <td>1.0</td>\n",
       "      <td>0.0</td>\n",
       "      <td>1.0</td>\n",
       "      <td>0.0</td>\n",
       "      <td>0.0</td>\n",
       "      <td>0.0</td>\n",
       "    </tr>\n",
       "    <tr>\n",
       "      <th>4</th>\n",
       "      <td>0</td>\n",
       "      <td>1.0</td>\n",
       "      <td>2</td>\n",
       "      <td>2</td>\n",
       "      <td>0.0</td>\n",
       "      <td>0</td>\n",
       "      <td>2</td>\n",
       "      <td>2</td>\n",
       "      <td>1</td>\n",
       "      <td>1.0</td>\n",
       "      <td>...</td>\n",
       "      <td>0.0</td>\n",
       "      <td>0.0</td>\n",
       "      <td>1.0</td>\n",
       "      <td>0.0</td>\n",
       "      <td>0.0</td>\n",
       "      <td>0.0</td>\n",
       "      <td>0.0</td>\n",
       "      <td>1.0</td>\n",
       "      <td>0.0</td>\n",
       "      <td>0.0</td>\n",
       "    </tr>\n",
       "    <tr>\n",
       "      <th>6</th>\n",
       "      <td>1</td>\n",
       "      <td>0.0</td>\n",
       "      <td>0</td>\n",
       "      <td>1</td>\n",
       "      <td>0.0</td>\n",
       "      <td>0</td>\n",
       "      <td>0</td>\n",
       "      <td>0</td>\n",
       "      <td>0</td>\n",
       "      <td>1.0</td>\n",
       "      <td>...</td>\n",
       "      <td>0.0</td>\n",
       "      <td>0.0</td>\n",
       "      <td>1.0</td>\n",
       "      <td>0.0</td>\n",
       "      <td>0.0</td>\n",
       "      <td>0.0</td>\n",
       "      <td>0.0</td>\n",
       "      <td>0.0</td>\n",
       "      <td>0.0</td>\n",
       "      <td>1.0</td>\n",
       "    </tr>\n",
       "    <tr>\n",
       "      <th>7</th>\n",
       "      <td>1</td>\n",
       "      <td>0.0</td>\n",
       "      <td>0</td>\n",
       "      <td>1</td>\n",
       "      <td>0.0</td>\n",
       "      <td>0</td>\n",
       "      <td>0</td>\n",
       "      <td>0</td>\n",
       "      <td>1</td>\n",
       "      <td>1.0</td>\n",
       "      <td>...</td>\n",
       "      <td>0.0</td>\n",
       "      <td>0.0</td>\n",
       "      <td>1.0</td>\n",
       "      <td>0.0</td>\n",
       "      <td>0.0</td>\n",
       "      <td>0.0</td>\n",
       "      <td>0.0</td>\n",
       "      <td>1.0</td>\n",
       "      <td>0.0</td>\n",
       "      <td>0.0</td>\n",
       "    </tr>\n",
       "  </tbody>\n",
       "</table>\n",
       "<p>5 rows × 27 columns</p>\n",
       "</div>"
      ],
      "text/plain": [
       "   Time_of_Day  Traffic_Density Speed_Limit Number_of_Vehicles  \\\n",
       "2            2              1.0           0                  1   \n",
       "3            1              2.0           0                  1   \n",
       "4            0              1.0           2                  2   \n",
       "6            1              0.0           0                  1   \n",
       "7            1              0.0           0                  1   \n",
       "\n",
       "   Driver_Alcohol  Accident_Severity Driver_Age Driver_Experience  \\\n",
       "2             0.0                  0          2                 2   \n",
       "3             0.0                  0          0                 1   \n",
       "4             0.0                  0          2                 2   \n",
       "6             0.0                  0          0                 0   \n",
       "7             0.0                  0          0                 0   \n",
       "\n",
       "   Road_Light_Condition  Accident  ...  Weather_Snowy  Weather_Stormy  \\\n",
       "2                     1       0.0  ...            0.0             0.0   \n",
       "3                     0       0.0  ...            0.0             0.0   \n",
       "4                     1       1.0  ...            0.0             0.0   \n",
       "6                     0       1.0  ...            0.0             0.0   \n",
       "7                     1       1.0  ...            0.0             0.0   \n",
       "\n",
       "   Road_Condition_Dry  Road_Condition_Icy  Road_Condition_Under Construction  \\\n",
       "2                 0.0                 1.0                                0.0   \n",
       "3                 0.0                 0.0                                1.0   \n",
       "4                 1.0                 0.0                                0.0   \n",
       "6                 1.0                 0.0                                0.0   \n",
       "7                 1.0                 0.0                                0.0   \n",
       "\n",
       "   Road_Condition_Wet  Vehicle_Type_Bus  Vehicle_Type_Car  \\\n",
       "2                 0.0               0.0               1.0   \n",
       "3                 0.0               1.0               0.0   \n",
       "4                 0.0               0.0               1.0   \n",
       "6                 0.0               0.0               0.0   \n",
       "7                 0.0               0.0               1.0   \n",
       "\n",
       "   Vehicle_Type_Motorcycle  Vehicle_Type_Truck  \n",
       "2                      0.0                 0.0  \n",
       "3                      0.0                 0.0  \n",
       "4                      0.0                 0.0  \n",
       "6                      0.0                 1.0  \n",
       "7                      0.0                 0.0  \n",
       "\n",
       "[5 rows x 27 columns]"
      ]
     },
     "execution_count": 186,
     "metadata": {},
     "output_type": "execute_result"
    }
   ],
   "source": [
    "priority_mapping = {'Low': 0, 'Moderate': 1, 'High': 2}\n",
    "df['Accident_Severity'] = df['Accident_Severity'].map(priority_mapping)\n",
    "\n",
    "time_of_day_mapping = {'Morning': 0, 'Night': 3, 'Evening': 2, 'Afternoon': 1}\n",
    "df['Time_of_Day'] = df['Time_of_Day'].map(time_of_day_mapping)\n",
    "\n",
    "road_light_mapping = {'Artificial Light': 1, 'Daylight': 0, 'No Light': 2}\n",
    "df['Road_Light_Condition'] = df['Road_Light_Condition'].map(road_light_mapping)\n",
    "\n",
    "ohe_road_type = OneHotEncoder()\n",
    "road_type_encoder = ohe_road_type.fit_transform(df[['Road_Type']])\n",
    "road_type_encoder_df = pd.DataFrame(road_type_encoder.toarray(), columns=ohe_road_type.get_feature_names_out(['Road_Type']), index=df.index)\n",
    "df = pd.concat([df.drop(\"Road_Type\", axis=1), road_type_encoder_df], axis=1)\n",
    "\n",
    "ohe_weather = OneHotEncoder()\n",
    "weather_encoder = ohe_weather.fit_transform(df[['Weather']])\n",
    "weather_encoder_df = pd.DataFrame(weather_encoder.toarray(), columns=ohe_weather.get_feature_names_out(['Weather']), index=df.index)\n",
    "df = pd.concat([df.drop(\"Weather\", axis=1), weather_encoder_df], axis=1)\n",
    "\n",
    "ohe_road_cond = OneHotEncoder()\n",
    "road_cond_encoder = ohe_road_cond.fit_transform(df[['Road_Condition']])\n",
    "road_cond_encoder_df = pd.DataFrame(road_cond_encoder.toarray(), columns=ohe_road_cond.get_feature_names_out(['Road_Condition']), index=df.index)\n",
    "df = pd.concat([df.drop(\"Road_Condition\", axis=1), road_cond_encoder_df], axis=1)\n",
    "\n",
    "ohe_vehicle = OneHotEncoder()\n",
    "vehicle_encoder = ohe_vehicle.fit_transform(df[[\"Vehicle_Type\"]])\n",
    "vehicle_encoder_df = pd.DataFrame(vehicle_encoder.toarray(), columns=ohe_vehicle.get_feature_names_out(['Vehicle_Type']), index=df.index)\n",
    "df = pd.concat([df.drop(\"Vehicle_Type\", axis=1), vehicle_encoder_df], axis=1)\n",
    "\n",
    "df['Speed_Limit'] = pd.qcut(df['Speed_Limit'], q=3, labels=['Low', 'Moderate', 'High'])\n",
    "df['Speed_Limit'] = df['Speed_Limit'].map(priority_mapping)\n",
    "\n",
    "df['Driver_Age'] = pd.qcut(df['Driver_Age'], q=3, labels=['Low', 'Moderate', 'High'])\n",
    "df['Driver_Age'] = df['Driver_Age'].map(priority_mapping)\n",
    "\n",
    "df['Driver_Experience'] = pd.qcut(df['Driver_Experience'], q=3, labels=['Low', 'Moderate', 'High'])\n",
    "df['Driver_Experience'] = df['Driver_Experience'].map(priority_mapping)\n",
    "\n",
    "df['Number_of_Vehicles'] = pd.qcut(df['Number_of_Vehicles'], q=3, labels=['Low', 'Moderate', 'High'])\n",
    "df['Number_of_Vehicles'] = df['Number_of_Vehicles'].map(priority_mapping)\n",
    "\n",
    "df.head()"
   ]
  },
  {
   "cell_type": "code",
   "execution_count": 187,
   "metadata": {},
   "outputs": [
    {
     "name": "stdout",
     "output_type": "stream",
     "text": [
      "(405, 26)\n",
      "(405,)\n"
     ]
    }
   ],
   "source": [
    "## Prepare X and y\n",
    "X = df.drop(['Accident'], axis=1)\n",
    "y = df['Accident']\n",
    "\n",
    "X_train, X_test, y_train, y_test = train_test_split(X, y, test_size=0.2, random_state=42)   # Split the data\n",
    "\n",
    "print(X.shape)\n",
    "print(y.shape)"
   ]
  },
  {
   "cell_type": "markdown",
   "metadata": {},
   "source": [
    "## Random Forest Classifier"
   ]
  },
  {
   "cell_type": "code",
   "execution_count": 188,
   "metadata": {},
   "outputs": [],
   "source": [
    "from sklearn.ensemble import RandomForestClassifier\n",
    "\n",
    "classifier_rf = RandomForestClassifier(\n",
    "                    random_state=42, \n",
    "                    n_jobs=-1, \n",
    "                    max_depth=5,\n",
    "                    n_estimators=100,\n",
    "                    oob_score=True\n",
    "                    )"
   ]
  },
  {
   "cell_type": "code",
   "execution_count": 189,
   "metadata": {},
   "outputs": [],
   "source": [
    "classifier_rf.fit(X_train, y_train)\n",
    "y_pred_rf = classifier_rf.predict(X_test)"
   ]
  },
  {
   "cell_type": "code",
   "execution_count": 190,
   "metadata": {},
   "outputs": [
    {
     "name": "stdout",
     "output_type": "stream",
     "text": [
      "The accuracy of the Random Forest Classifier is 0.7160493827160493\n"
     ]
    }
   ],
   "source": [
    "print(f\"The accuracy of the Random Forest Classifier is {accuracy_score(y_test,y_pred_rf)}\")"
   ]
  },
  {
   "cell_type": "markdown",
   "metadata": {},
   "source": [
    "## Support Vector Classifier"
   ]
  },
  {
   "cell_type": "code",
   "execution_count": 191,
   "metadata": {},
   "outputs": [],
   "source": [
    "from sklearn.svm import SVC\n",
    "\n",
    "classifier_svc = SVC(kernel='rbf', probability=True)"
   ]
  },
  {
   "cell_type": "code",
   "execution_count": 192,
   "metadata": {},
   "outputs": [],
   "source": [
    "classifier_svc.fit(X_train, y_train)\n",
    "y_pred_svc = classifier_svc.predict(X_test)"
   ]
  },
  {
   "cell_type": "code",
   "execution_count": 193,
   "metadata": {},
   "outputs": [
    {
     "name": "stdout",
     "output_type": "stream",
     "text": [
      "The accuracy of Support Vector Classifier is 0.7037037037037037\n"
     ]
    }
   ],
   "source": [
    "print(f\"The accuracy of Support Vector Classifier is {accuracy_score(y_test,y_pred_svc)}\")"
   ]
  },
  {
   "cell_type": "code",
   "execution_count": 194,
   "metadata": {},
   "outputs": [
    {
     "name": "stdout",
     "output_type": "stream",
     "text": [
      "The cross validation scores for Random Forest are [0.6615 0.7231 0.7385 0.7231 0.7031] and the mean score is 0.7098557692307692\n",
      "The cross validation scores for Support Vector Classifier are [0.7077 0.7077 0.7077 0.7231 0.7031] and the mean score is 0.7098557692307692\n"
     ]
    }
   ],
   "source": [
    "## Cross Validation for both the classifiers \n",
    "from sklearn.model_selection import cross_val_score\n",
    "\n",
    "cv_scores_rf = cross_val_score(classifier_rf, X_train, y_train, cv=5)\n",
    "print(f\"The cross validation scores for Random Forest are {cv_scores_rf.round(4)} and the mean score is {cv_scores_rf.mean()}\")\n",
    "\n",
    "cv_scores_svc = cross_val_score(classifier_svc, X_train, y_train, cv=5)\n",
    "print(f\"The cross validation scores for Support Vector Classifier are {cv_scores_svc.round(4)} and the mean score is {cv_scores_svc.mean()}\")"
   ]
  },
  {
   "cell_type": "code",
   "execution_count": 195,
   "metadata": {},
   "outputs": [
    {
     "name": "stderr",
     "output_type": "stream",
     "text": [
      "C:\\Users\\Swastik\\AppData\\Local\\Temp\\ipykernel_4212\\618218237.py:20: UserWarning: No artists with labels found to put in legend.  Note that artists whose label start with an underscore are ignored when legend() is called with no argument.\n",
      "  plt.legend(loc='lower right')\n"
     ]
    },
    {
     "data": {
      "image/png": "[encoded data removed]",
      "text/plain": [
       "<Figure size 800x600 with 1 Axes>"
      ]
     },
     "metadata": {},
     "output_type": "display_data"
    }
   ],
   "source": [
    "## ROC curve for Random Forest\n",
    "# Stratified K-Folds cross-validation\n",
    "from sklearn.metrics import roc_curve\n",
    "\n",
    "classifier_rf.fit(X_train, y_train)\n",
    "y_score = classifier_rf.predict_proba(X_test)[:, 1]  # Get the predicted probabilities\n",
    "\n",
    "fpr, tpr, _ = roc_curve(y_test, y_score)\n",
    "\n",
    "# Average ROC curve\n",
    "mean_fpr = np.linspace(0, 1, 100)\n",
    "mean_tpr = np.interp(mean_fpr, fpr, tpr)\n",
    "\n",
    "# Plotting ROC curve\n",
    "plt.figure(figsize=(8, 6))\n",
    "plt.plot(mean_fpr, mean_tpr, color='b')\n",
    "plt.xlabel('False Positive Rate')\n",
    "plt.ylabel('True Positive Rate')\n",
    "plt.title('ROC Curve for Random Forest with Cross-validation')\n",
    "plt.legend(loc='lower right')\n",
    "plt.show()"
   ]
  },
  {
   "cell_type": "code",
   "execution_count": 196,
   "metadata": {},
   "outputs": [
    {
     "name": "stderr",
     "output_type": "stream",
     "text": [
      "C:\\Users\\Swastik\\AppData\\Local\\Temp\\ipykernel_4212\\4079475090.py:17: UserWarning: No artists with labels found to put in legend.  Note that artists whose label start with an underscore are ignored when legend() is called with no argument.\n",
      "  plt.legend(loc='lower right')\n"
     ]
    },
    {
     "data": {
      "image/png": "[encoded data removed]",
      "text/plain": [
       "<Figure size 800x600 with 1 Axes>"
      ]
     },
     "metadata": {},
     "output_type": "display_data"
    }
   ],
   "source": [
    "## ROC curve for Support Vector Classifier\n",
    "classifier_svc.fit(X_train, y_train)\n",
    "y_score = classifier_svc.predict_proba(X_test)[:, 1]  # Get the predicted probabilities\n",
    "\n",
    "fpr, tpr, _ = roc_curve(y_test, y_score)\n",
    "\n",
    "# Average ROC curve\n",
    "mean_fpr = np.linspace(0, 1, 100)\n",
    "mean_tpr = np.interp(mean_fpr, fpr, tpr)\n",
    "\n",
    "# Plotting ROC curve\n",
    "plt.figure(figsize=(8, 6))\n",
    "plt.plot(mean_fpr, mean_tpr, color='b')\n",
    "plt.xlabel('False Positive Rate')\n",
    "plt.ylabel('True Positive Rate')\n",
    "plt.title('ROC Curve for SVC with Cross-validation')\n",
    "plt.legend(loc='lower right')\n",
    "plt.show()"
   ]
  }
 ],
 "metadata": {
  "kernelspec": {
   "display_name": "ml_lab_venv",
   "language": "python",
   "name": "python3"
  },
  "language_info": {
   "codemirror_mode": {
    "name": "ipython",
    "version": 3
   },
   "file_extension": ".py",
   "mimetype": "text/x-python",
   "name": "python",
   "nbconvert_exporter": "python",
   "pygments_lexer": "ipython3",
   "version": "3.12.7"
  }
 },
 "nbformat": 4,
 "nbformat_minor": 2
}
